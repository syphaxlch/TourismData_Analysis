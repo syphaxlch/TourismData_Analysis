{
 "cells": [
  {
   "cell_type": "code",
   "execution_count": 14,
   "id": "d2bf50b0-db6c-4638-9829-0de17cb89445",
   "metadata": {},
   "outputs": [],
   "source": [
    "type_df = pd.read_excel('data_tp/type.xlsx')\n",
    "caracteristiques_df = pd.read_excel('data_tp/caracteristiques.xlsx')\n",
    "etablissements_df = pd.read_excel('data_tp/etablissements.xlsx')\n",
    "territoires_df = pd.read_excel('data_tp/territoires.xlsx')\n",
    "adresses_df = pd.read_excel('data_tp/adresses.xlsx')"
   ]
  },
  {
   "cell_type": "markdown",
   "id": "692cbe8f-9d86-4957-9e3e-305f6d8148b0",
   "metadata": {},
   "source": [
    "# 1. Chargement des données et nettoyage"
   ]
  },
  {
   "cell_type": "code",
   "execution_count": 13,
   "id": "982f608e-4159-452b-b093-646b4e8d65ba",
   "metadata": {},
   "outputs": [],
   "source": [
    "import pandas as pd\n",
    "import numpy as np"
   ]
  },
  {
   "cell_type": "code",
   "execution_count": 22,
   "id": "95aca6b1-4c59-4485-8556-64bdbdbb9174",
   "metadata": {},
   "outputs": [
    {
     "data": {
      "text/html": [
       "<div>\n",
       "<style scoped>\n",
       "    .dataframe tbody tr th:only-of-type {\n",
       "        vertical-align: middle;\n",
       "    }\n",
       "\n",
       "    .dataframe tbody tr th {\n",
       "        vertical-align: top;\n",
       "    }\n",
       "\n",
       "    .dataframe thead th {\n",
       "        text-align: right;\n",
       "    }\n",
       "</style>\n",
       "<table border=\"1\" class=\"dataframe\">\n",
       "  <thead>\n",
       "    <tr style=\"text-align: right;\">\n",
       "      <th></th>\n",
       "      <th>ETBL_ID</th>\n",
       "      <th>ETBL_TYPE_GENRE</th>\n",
       "      <th>ETBL_TYPE_ID</th>\n",
       "      <th>ETBL_TYPE_FR</th>\n",
       "      <th>ETBL_TYPE_EN</th>\n",
       "      <th>ETBL_TYPE_GRP_ID</th>\n",
       "      <th>ETBL_TYPE_GRP_FR</th>\n",
       "      <th>ETBL_TYPE_GRP_EN</th>\n",
       "      <th>ETBL_TYPE_CATG_ID</th>\n",
       "      <th>ETBL_TYPE_CATG_FR</th>\n",
       "      <th>ETBL_TYPE_CATG_EN</th>\n",
       "    </tr>\n",
       "  </thead>\n",
       "  <tbody>\n",
       "    <tr>\n",
       "      <th>0</th>\n",
       "      <td>838721</td>\n",
       "      <td>principal</td>\n",
       "      <td>10819.0</td>\n",
       "      <td>Chalet / appartement / résidence de tourisme</td>\n",
       "      <td>Cottage / apartment / tourist home</td>\n",
       "      <td>NaN</td>\n",
       "      <td>NaN</td>\n",
       "      <td>NaN</td>\n",
       "      <td>10803</td>\n",
       "      <td>HÉBERGEMENT</td>\n",
       "      <td>LODGING/ACCOMMODATION</td>\n",
       "    </tr>\n",
       "    <tr>\n",
       "      <th>1</th>\n",
       "      <td>838774</td>\n",
       "      <td>principal</td>\n",
       "      <td>10819.0</td>\n",
       "      <td>Chalet / appartement / résidence de tourisme</td>\n",
       "      <td>Cottage / apartment / tourist home</td>\n",
       "      <td>NaN</td>\n",
       "      <td>NaN</td>\n",
       "      <td>NaN</td>\n",
       "      <td>10803</td>\n",
       "      <td>HÉBERGEMENT</td>\n",
       "      <td>LODGING/ACCOMMODATION</td>\n",
       "    </tr>\n",
       "    <tr>\n",
       "      <th>2</th>\n",
       "      <td>838885</td>\n",
       "      <td>principal</td>\n",
       "      <td>10811.0</td>\n",
       "      <td>Résidence étudiante</td>\n",
       "      <td>Student residence</td>\n",
       "      <td>NaN</td>\n",
       "      <td>NaN</td>\n",
       "      <td>NaN</td>\n",
       "      <td>10803</td>\n",
       "      <td>HÉBERGEMENT</td>\n",
       "      <td>LODGING/ACCOMMODATION</td>\n",
       "    </tr>\n",
       "    <tr>\n",
       "      <th>3</th>\n",
       "      <td>838963</td>\n",
       "      <td>principal</td>\n",
       "      <td>10807.0</td>\n",
       "      <td>Auberge de jeunesse</td>\n",
       "      <td>Youth hostel</td>\n",
       "      <td>NaN</td>\n",
       "      <td>NaN</td>\n",
       "      <td>NaN</td>\n",
       "      <td>10803</td>\n",
       "      <td>HÉBERGEMENT</td>\n",
       "      <td>LODGING/ACCOMMODATION</td>\n",
       "    </tr>\n",
       "    <tr>\n",
       "      <th>4</th>\n",
       "      <td>839010</td>\n",
       "      <td>principal</td>\n",
       "      <td>NaN</td>\n",
       "      <td>NaN</td>\n",
       "      <td>NaN</td>\n",
       "      <td>10817.0</td>\n",
       "      <td>Hôtel</td>\n",
       "      <td>Hotel</td>\n",
       "      <td>10803</td>\n",
       "      <td>HÉBERGEMENT</td>\n",
       "      <td>LODGING/ACCOMMODATION</td>\n",
       "    </tr>\n",
       "  </tbody>\n",
       "</table>\n",
       "</div>"
      ],
      "text/plain": [
       "   ETBL_ID ETBL_TYPE_GENRE  ETBL_TYPE_ID  \\\n",
       "0   838721       principal       10819.0   \n",
       "1   838774       principal       10819.0   \n",
       "2   838885       principal       10811.0   \n",
       "3   838963       principal       10807.0   \n",
       "4   839010       principal           NaN   \n",
       "\n",
       "                                   ETBL_TYPE_FR  \\\n",
       "0  Chalet / appartement / résidence de tourisme   \n",
       "1  Chalet / appartement / résidence de tourisme   \n",
       "2                           Résidence étudiante   \n",
       "3                           Auberge de jeunesse   \n",
       "4                                           NaN   \n",
       "\n",
       "                         ETBL_TYPE_EN  ETBL_TYPE_GRP_ID ETBL_TYPE_GRP_FR  \\\n",
       "0  Cottage / apartment / tourist home               NaN              NaN   \n",
       "1  Cottage / apartment / tourist home               NaN              NaN   \n",
       "2                   Student residence               NaN              NaN   \n",
       "3                        Youth hostel               NaN              NaN   \n",
       "4                                 NaN           10817.0            Hôtel   \n",
       "\n",
       "  ETBL_TYPE_GRP_EN  ETBL_TYPE_CATG_ID ETBL_TYPE_CATG_FR      ETBL_TYPE_CATG_EN  \n",
       "0              NaN              10803       HÉBERGEMENT  LODGING/ACCOMMODATION  \n",
       "1              NaN              10803       HÉBERGEMENT  LODGING/ACCOMMODATION  \n",
       "2              NaN              10803       HÉBERGEMENT  LODGING/ACCOMMODATION  \n",
       "3              NaN              10803       HÉBERGEMENT  LODGING/ACCOMMODATION  \n",
       "4            Hotel              10803       HÉBERGEMENT  LODGING/ACCOMMODATION  "
      ]
     },
     "execution_count": 22,
     "metadata": {},
     "output_type": "execute_result"
    }
   ],
   "source": [
    "#Analyse de donnees\n",
    "type_df.head()"
   ]
  },
  {
   "cell_type": "code",
   "execution_count": 26,
   "id": "387a0960-c34a-4f2b-bf3c-deb8c73ed223",
   "metadata": {},
   "outputs": [
    {
     "name": "stdout",
     "output_type": "stream",
     "text": [
      "Nombre de valeurs manquantes par colonne :\n",
      "ETBL_ID                 0\n",
      "ETBL_TYPE_GENRE         0\n",
      "ETBL_TYPE_ID         1370\n",
      "ETBL_TYPE_FR         1370\n",
      "ETBL_TYPE_EN         1370\n",
      "ETBL_TYPE_GRP_ID     9380\n",
      "ETBL_TYPE_GRP_FR     9380\n",
      "ETBL_TYPE_GRP_EN     9380\n",
      "ETBL_TYPE_CATG_ID       0\n",
      "ETBL_TYPE_CATG_FR       0\n",
      "ETBL_TYPE_CATG_EN       0\n",
      "dtype: int64\n"
     ]
    }
   ],
   "source": [
    "# Vérification du nombre de valeurs NaN pour chaque colonne du DataFrame 'type_df'\n",
    "valeurs_nan_par_colonne = type_df.isnull().sum()\n",
    "\n",
    "# Affichage des résultats\n",
    "print(\"Nombre de valeurs manquantes par colonne :\")\n",
    "print(valeurs_nan_par_colonne)\n"
   ]
  },
  {
   "cell_type": "markdown",
   "id": "3f483df2-b286-4972-bb4c-bd81a7c6ec94",
   "metadata": {},
   "source": [
    "# 2. Création trois nouvelles variables"
   ]
  },
  {
   "cell_type": "markdown",
   "id": "edb5f6b2-6b35-4798-b0fa-f482da4e26a0",
   "metadata": {},
   "source": [
    "# 3. Création de genre_zone "
   ]
  },
  {
   "cell_type": "code",
   "execution_count": null,
   "id": "4d737efa-880f-49b9-aad6-18a0cc1e3f9b",
   "metadata": {},
   "outputs": [],
   "source": []
  }
 ],
 "metadata": {
  "kernelspec": {
   "display_name": "Python 3 (ipykernel)",
   "language": "python",
   "name": "python3"
  },
  "language_info": {
   "codemirror_mode": {
    "name": "ipython",
    "version": 3
   },
   "file_extension": ".py",
   "mimetype": "text/x-python",
   "name": "python",
   "nbconvert_exporter": "python",
   "pygments_lexer": "ipython3",
   "version": "3.12.4"
  }
 },
 "nbformat": 4,
 "nbformat_minor": 5
}
