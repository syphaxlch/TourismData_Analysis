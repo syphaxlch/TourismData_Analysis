{
 "cells": [
  {
   "cell_type": "code",
   "execution_count": 1,
   "id": "c9cab191-a3f4-43ab-9c6e-9f75ff33931b",
   "metadata": {
    "jupyter": {
     "is_executing": true
    }
   },
   "outputs": [],
   "source": [
    "import pandas as pd\n",
    "import unicodedata #permet d'enlever les accents\n",
    "import re #Pour utiliser des expressions régulières\n",
    "import math #\n",
    "import matplotlib.pyplot as plt #Pour la visualisation\n",
    "import seaborn as sns"
   ]
  },
  {
   "cell_type": "markdown",
   "id": "692cbe8f-9d86-4957-9e3e-305f6d8148b0",
   "metadata": {},
   "source": [
    "# 1. Chargement des données et nettoyage"
   ]
  },
  {
   "cell_type": "markdown",
   "id": "60bdb195-22ed-4253-a128-f796815c571f",
   "metadata": {},
   "source": [
    "### Importation des données des cinq fichiers"
   ]
  },
  {
   "cell_type": "code",
   "execution_count": 7,
   "id": "d2bf50b0-db6c-4638-9829-0de17cb89445",
   "metadata": {},
   "outputs": [],
   "source": [
    "type_df = pd.read_excel('data_tp/type.xlsx')\n",
    "caracteristiques_df = pd.read_excel('data_tp/caracteristiques.xlsx')\n",
    "etablissements_df = pd.read_excel('data_tp/etablissements.xlsx')\n",
    "territoires_df = pd.read_excel('data_tp/territoires.xlsx')\n",
    "adresses_df = pd.read_excel('data_tp/adresses.xlsx')"
   ]
  },
  {
   "cell_type": "markdown",
   "id": "04a1ddc9-fcb9-499b-9942-b6847bdd545f",
   "metadata": {},
   "source": [
    "### Analyse de caracteristiques_df"
   ]
  },
  {
   "cell_type": "code",
   "execution_count": 10,
   "id": "3820a40c-50d0-4140-8364-b05a7522661d",
   "metadata": {},
   "outputs": [
    {
     "name": "stdout",
     "output_type": "stream",
     "text": [
      "Nombre de valeurs manquantes par colonne pour types_df:\n",
      "ETBL_ID                 0\n",
      "ETBL_TYPE_GENRE         0\n",
      "ETBL_TYPE_ID         1370\n",
      "ETBL_TYPE_FR         1370\n",
      "ETBL_TYPE_EN         1370\n",
      "ETBL_TYPE_GRP_ID     9380\n",
      "ETBL_TYPE_GRP_FR     9380\n",
      "ETBL_TYPE_GRP_EN     9380\n",
      "ETBL_TYPE_CATG_ID       0\n",
      "ETBL_TYPE_CATG_FR       0\n",
      "ETBL_TYPE_CATG_EN       0\n",
      "dtype: int64\n"
     ]
    },
    {
     "data": {
      "text/html": [
       "<div>\n",
       "<style scoped>\n",
       "    .dataframe tbody tr th:only-of-type {\n",
       "        vertical-align: middle;\n",
       "    }\n",
       "\n",
       "    .dataframe tbody tr th {\n",
       "        vertical-align: top;\n",
       "    }\n",
       "\n",
       "    .dataframe thead th {\n",
       "        text-align: right;\n",
       "    }\n",
       "</style>\n",
       "<table border=\"1\" class=\"dataframe\">\n",
       "  <thead>\n",
       "    <tr style=\"text-align: right;\">\n",
       "      <th></th>\n",
       "      <th>ETBL_ID</th>\n",
       "      <th>CARACT_ID</th>\n",
       "      <th>CARACT_NOM_FR</th>\n",
       "      <th>CARACT_NOM_EN</th>\n",
       "      <th>CARACT_ATTRB_ID</th>\n",
       "      <th>CARACT_ATTRB_NOM_FR</th>\n",
       "      <th>CARACT_ATTRB_NOM_EN</th>\n",
       "      <th>CARACT_ATTRB_VAL</th>\n",
       "    </tr>\n",
       "  </thead>\n",
       "  <tbody>\n",
       "    <tr>\n",
       "      <th>0</th>\n",
       "      <td>838721</td>\n",
       "      <td>10581</td>\n",
       "      <td>Activités</td>\n",
       "      <td>Activities</td>\n",
       "      <td>20143552.0</td>\n",
       "      <td>Golf à moins de 10 km</td>\n",
       "      <td>Golf within10 km</td>\n",
       "      <td>NaN</td>\n",
       "    </tr>\n",
       "    <tr>\n",
       "      <th>1</th>\n",
       "      <td>838721</td>\n",
       "      <td>10581</td>\n",
       "      <td>Activités</td>\n",
       "      <td>Activities</td>\n",
       "      <td>20143561.0</td>\n",
       "      <td>Ski de fond à moins de 10 km</td>\n",
       "      <td>Cross-country skiing within 10 km</td>\n",
       "      <td>NaN</td>\n",
       "    </tr>\n",
       "    <tr>\n",
       "      <th>2</th>\n",
       "      <td>838721</td>\n",
       "      <td>10581</td>\n",
       "      <td>Activités</td>\n",
       "      <td>Activities</td>\n",
       "      <td>20143568.0</td>\n",
       "      <td>Théâtre d'été à moins de 10 km</td>\n",
       "      <td>Summer theatre within 10 km</td>\n",
       "      <td>NaN</td>\n",
       "    </tr>\n",
       "    <tr>\n",
       "      <th>3</th>\n",
       "      <td>838721</td>\n",
       "      <td>10581</td>\n",
       "      <td>Activités</td>\n",
       "      <td>Activities</td>\n",
       "      <td>10667.0</td>\n",
       "      <td>Vélo</td>\n",
       "      <td>Cycling</td>\n",
       "      <td>NaN</td>\n",
       "    </tr>\n",
       "    <tr>\n",
       "      <th>4</th>\n",
       "      <td>838721</td>\n",
       "      <td>10579</td>\n",
       "      <td>Services</td>\n",
       "      <td>Services</td>\n",
       "      <td>364299662.0</td>\n",
       "      <td>Accès Internet : sans fil gratuit</td>\n",
       "      <td>Internet access : free wireless</td>\n",
       "      <td>NaN</td>\n",
       "    </tr>\n",
       "    <tr>\n",
       "      <th>...</th>\n",
       "      <td>...</td>\n",
       "      <td>...</td>\n",
       "      <td>...</td>\n",
       "      <td>...</td>\n",
       "      <td>...</td>\n",
       "      <td>...</td>\n",
       "      <td>...</td>\n",
       "      <td>...</td>\n",
       "    </tr>\n",
       "    <tr>\n",
       "      <th>341316</th>\n",
       "      <td>500016738</td>\n",
       "      <td>14372</td>\n",
       "      <td>Équipement des unités</td>\n",
       "      <td>Amenities</td>\n",
       "      <td>433306.0</td>\n",
       "      <td>Unité pour non-fumeur</td>\n",
       "      <td>Non-smoking units</td>\n",
       "      <td>1.0</td>\n",
       "    </tr>\n",
       "    <tr>\n",
       "      <th>341317</th>\n",
       "      <td>500016738</td>\n",
       "      <td>16957126</td>\n",
       "      <td>Unités</td>\n",
       "      <td>Units</td>\n",
       "      <td>16957153.0</td>\n",
       "      <td>appartement~, chalet~ ou maison~</td>\n",
       "      <td>apartment~, cottage~ or house~</td>\n",
       "      <td>1.0</td>\n",
       "    </tr>\n",
       "    <tr>\n",
       "      <th>341318</th>\n",
       "      <td>500016738</td>\n",
       "      <td>10497</td>\n",
       "      <td>Classification</td>\n",
       "      <td>Rating</td>\n",
       "      <td>18336.0</td>\n",
       "      <td>En cours d'évaluation</td>\n",
       "      <td>Rating in progress</td>\n",
       "      <td>NaN</td>\n",
       "    </tr>\n",
       "    <tr>\n",
       "      <th>341319</th>\n",
       "      <td>500016738</td>\n",
       "      <td>420859</td>\n",
       "      <td>Tarifs</td>\n",
       "      <td>Rates</td>\n",
       "      <td>18252.0</td>\n",
       "      <td>Maximum pour l'unité la moins chère</td>\n",
       "      <td>Maximum for the least expensive unit</td>\n",
       "      <td>435.0</td>\n",
       "    </tr>\n",
       "    <tr>\n",
       "      <th>341320</th>\n",
       "      <td>500016738</td>\n",
       "      <td>420859</td>\n",
       "      <td>Tarifs</td>\n",
       "      <td>Rates</td>\n",
       "      <td>1161452.0</td>\n",
       "      <td>Maximum pour l'unité la plus chère</td>\n",
       "      <td>Maximum for the most expensive unit</td>\n",
       "      <td>435.0</td>\n",
       "    </tr>\n",
       "  </tbody>\n",
       "</table>\n",
       "<p>341321 rows × 8 columns</p>\n",
       "</div>"
      ],
      "text/plain": [
       "          ETBL_ID  CARACT_ID          CARACT_NOM_FR CARACT_NOM_EN  \\\n",
       "0          838721      10581              Activités    Activities   \n",
       "1          838721      10581              Activités    Activities   \n",
       "2          838721      10581              Activités    Activities   \n",
       "3          838721      10581              Activités    Activities   \n",
       "4          838721      10579               Services      Services   \n",
       "...           ...        ...                    ...           ...   \n",
       "341316  500016738      14372  Équipement des unités     Amenities   \n",
       "341317  500016738   16957126                 Unités         Units   \n",
       "341318  500016738      10497         Classification        Rating   \n",
       "341319  500016738     420859                 Tarifs         Rates   \n",
       "341320  500016738     420859                 Tarifs         Rates   \n",
       "\n",
       "        CARACT_ATTRB_ID                  CARACT_ATTRB_NOM_FR  \\\n",
       "0            20143552.0                Golf à moins de 10 km   \n",
       "1            20143561.0         Ski de fond à moins de 10 km   \n",
       "2            20143568.0       Théâtre d'été à moins de 10 km   \n",
       "3               10667.0                                 Vélo   \n",
       "4           364299662.0    Accès Internet : sans fil gratuit   \n",
       "...                 ...                                  ...   \n",
       "341316         433306.0                Unité pour non-fumeur   \n",
       "341317       16957153.0     appartement~, chalet~ ou maison~   \n",
       "341318          18336.0                En cours d'évaluation   \n",
       "341319          18252.0  Maximum pour l'unité la moins chère   \n",
       "341320        1161452.0   Maximum pour l'unité la plus chère   \n",
       "\n",
       "                         CARACT_ATTRB_NOM_EN  CARACT_ATTRB_VAL  \n",
       "0                           Golf within10 km               NaN  \n",
       "1          Cross-country skiing within 10 km               NaN  \n",
       "2                Summer theatre within 10 km               NaN  \n",
       "3                                    Cycling               NaN  \n",
       "4            Internet access : free wireless               NaN  \n",
       "...                                      ...               ...  \n",
       "341316                     Non-smoking units               1.0  \n",
       "341317        apartment~, cottage~ or house~               1.0  \n",
       "341318                    Rating in progress               NaN  \n",
       "341319  Maximum for the least expensive unit             435.0  \n",
       "341320   Maximum for the most expensive unit             435.0  \n",
       "\n",
       "[341321 rows x 8 columns]"
      ]
     },
     "execution_count": 10,
     "metadata": {},
     "output_type": "execute_result"
    }
   ],
   "source": [
    "# Vérification des valeurs manquantes\n",
    "missing_values_type_df = type_df.isnull().sum()\n",
    "print(\"Nombre de valeurs manquantes par colonne pour types_df:\")\n",
    "print(missing_values_type_df)\n",
    "caracteristiques_df"
   ]
  },
  {
   "cell_type": "markdown",
   "id": "142db138-159f-4284-b9a6-47b087ba0cc6",
   "metadata": {},
   "source": [
    "### Analyse de etablissements_df "
   ]
  },
  {
   "cell_type": "code",
   "execution_count": 13,
   "id": "fb441646-5dc2-4a59-b550-bbe7b6e2e0db",
   "metadata": {},
   "outputs": [
    {
     "name": "stdout",
     "output_type": "stream",
     "text": [
      "Nombre de valeurs manquantes par colonne pour etablissements_df:\n",
      "ETBL_ID               0\n",
      "ETBL_NOM_FR           0\n",
      "ETBL_NOM_EN           0\n",
      "ETBL_DESC_FR       4536\n",
      "ETBL_DESC_EN       4544\n",
      "ETBL_RESERVABLE       0\n",
      "dtype: int64\n",
      "Les types uniques dans la colonne ETBL_DESC_FR : \n",
      "[<class 'str'>]\n"
     ]
    }
   ],
   "source": [
    "missing_values_etablissements_df = etablissements_df.isnull().sum()\n",
    "print(\"Nombre de valeurs manquantes par colonne pour etablissements_df:\")\n",
    "print(missing_values_etablissements_df)\n",
    "# Récupération des types uniques dans la colonne ETBL_DESC_FR sans NaN\n",
    "types_uniques = etablissements_df['ETBL_DESC_FR'].dropna().apply(type).unique()\n",
    "print('Les types uniques dans la colonne ETBL_DESC_FR : ')\n",
    "print(types_uniques)"
   ]
  },
  {
   "cell_type": "markdown",
   "id": "490523cf-7a1f-4cf7-bc8a-308761ee0f3d",
   "metadata": {},
   "source": [
    "#### Les colonnes ETBL_DESC_FR et ETBL_DESC_EN contiennent des chaînes de caractères, donc je remplace les NaN par des chaînes vides."
   ]
  },
  {
   "cell_type": "code",
   "execution_count": 16,
   "id": "1117ef9a-56f8-4f97-a4d0-90bce0c9d94e",
   "metadata": {},
   "outputs": [],
   "source": [
    "etablissements_df.columns\n",
    "\n",
    "etablissements_df['ETBL_DESC_FR'] = etablissements_df['ETBL_DESC_FR'].fillna('')  # Remplacer par une chaîne vide\n",
    "etablissements_df['ETBL_DESC_EN'] = etablissements_df['ETBL_DESC_EN'].fillna('')"
   ]
  },
  {
   "cell_type": "markdown",
   "id": "5dcc1c82-9d58-4357-b07b-de177c8b433e",
   "metadata": {
    "editable": true,
    "slideshow": {
     "slide_type": ""
    },
    "tags": []
   },
   "source": [
    "### Analyse de territoires_df"
   ]
  },
  {
   "cell_type": "code",
   "execution_count": 19,
   "id": "a0cb651d-0b09-477b-84da-f64a42ceb34a",
   "metadata": {},
   "outputs": [
    {
     "data": {
      "text/html": [
       "<div>\n",
       "<style scoped>\n",
       "    .dataframe tbody tr th:only-of-type {\n",
       "        vertical-align: middle;\n",
       "    }\n",
       "\n",
       "    .dataframe tbody tr th {\n",
       "        vertical-align: top;\n",
       "    }\n",
       "\n",
       "    .dataframe thead th {\n",
       "        text-align: right;\n",
       "    }\n",
       "</style>\n",
       "<table border=\"1\" class=\"dataframe\">\n",
       "  <thead>\n",
       "    <tr style=\"text-align: right;\">\n",
       "      <th></th>\n",
       "      <th>ETBL_ID</th>\n",
       "      <th>TERR_GENRE</th>\n",
       "      <th>TERR_ZONE_ID</th>\n",
       "      <th>TERR_ZONE_NOM_FR</th>\n",
       "      <th>TERR_ZONE_NOM_EN</th>\n",
       "      <th>TERR_ZONE_GENRE_ID</th>\n",
       "      <th>TERR_ZONE_GENRE_FR</th>\n",
       "      <th>TERR_ZONE_GENRE_EN</th>\n",
       "    </tr>\n",
       "  </thead>\n",
       "  <tbody>\n",
       "    <tr>\n",
       "      <th>0</th>\n",
       "      <td>838721</td>\n",
       "      <td>principal</td>\n",
       "      <td>292120028</td>\n",
       "      <td>Le mont Royal</td>\n",
       "      <td>The Mont Royal</td>\n",
       "      <td>432971</td>\n",
       "      <td>Quartier / secteur</td>\n",
       "      <td>District / Area</td>\n",
       "    </tr>\n",
       "    <tr>\n",
       "      <th>1</th>\n",
       "      <td>838721</td>\n",
       "      <td>principal</td>\n",
       "      <td>21950</td>\n",
       "      <td>Montréal</td>\n",
       "      <td>Montréal</td>\n",
       "      <td>91</td>\n",
       "      <td>Ville</td>\n",
       "      <td>City</td>\n",
       "    </tr>\n",
       "    <tr>\n",
       "      <th>2</th>\n",
       "      <td>838721</td>\n",
       "      <td>principal</td>\n",
       "      <td>3432</td>\n",
       "      <td>Montréal</td>\n",
       "      <td>Montréal</td>\n",
       "      <td>81</td>\n",
       "      <td>Région</td>\n",
       "      <td>Area</td>\n",
       "    </tr>\n",
       "    <tr>\n",
       "      <th>3</th>\n",
       "      <td>838721</td>\n",
       "      <td>principal</td>\n",
       "      <td>3406</td>\n",
       "      <td>Québec</td>\n",
       "      <td>Quebec</td>\n",
       "      <td>75</td>\n",
       "      <td>Province</td>\n",
       "      <td>Province</td>\n",
       "    </tr>\n",
       "    <tr>\n",
       "      <th>4</th>\n",
       "      <td>838774</td>\n",
       "      <td>principal</td>\n",
       "      <td>22830</td>\n",
       "      <td>Boileau</td>\n",
       "      <td>Boileau</td>\n",
       "      <td>91</td>\n",
       "      <td>Ville</td>\n",
       "      <td>City</td>\n",
       "    </tr>\n",
       "    <tr>\n",
       "      <th>...</th>\n",
       "      <td>...</td>\n",
       "      <td>...</td>\n",
       "      <td>...</td>\n",
       "      <td>...</td>\n",
       "      <td>...</td>\n",
       "      <td>...</td>\n",
       "      <td>...</td>\n",
       "      <td>...</td>\n",
       "    </tr>\n",
       "    <tr>\n",
       "      <th>37173</th>\n",
       "      <td>500016737</td>\n",
       "      <td>principal</td>\n",
       "      <td>3430</td>\n",
       "      <td>Laurentides</td>\n",
       "      <td>Laurentides</td>\n",
       "      <td>81</td>\n",
       "      <td>Région</td>\n",
       "      <td>Area</td>\n",
       "    </tr>\n",
       "    <tr>\n",
       "      <th>37174</th>\n",
       "      <td>500016737</td>\n",
       "      <td>principal</td>\n",
       "      <td>3406</td>\n",
       "      <td>Québec</td>\n",
       "      <td>Quebec</td>\n",
       "      <td>75</td>\n",
       "      <td>Province</td>\n",
       "      <td>Province</td>\n",
       "    </tr>\n",
       "    <tr>\n",
       "      <th>37175</th>\n",
       "      <td>500016738</td>\n",
       "      <td>principal</td>\n",
       "      <td>21384</td>\n",
       "      <td>Saint-Irénée</td>\n",
       "      <td>Saint-Irénée</td>\n",
       "      <td>91</td>\n",
       "      <td>Ville</td>\n",
       "      <td>City</td>\n",
       "    </tr>\n",
       "    <tr>\n",
       "      <th>37176</th>\n",
       "      <td>500016738</td>\n",
       "      <td>principal</td>\n",
       "      <td>3414</td>\n",
       "      <td>Charlevoix</td>\n",
       "      <td>Charlevoix</td>\n",
       "      <td>81</td>\n",
       "      <td>Région</td>\n",
       "      <td>Area</td>\n",
       "    </tr>\n",
       "    <tr>\n",
       "      <th>37177</th>\n",
       "      <td>500016738</td>\n",
       "      <td>principal</td>\n",
       "      <td>3406</td>\n",
       "      <td>Québec</td>\n",
       "      <td>Quebec</td>\n",
       "      <td>75</td>\n",
       "      <td>Province</td>\n",
       "      <td>Province</td>\n",
       "    </tr>\n",
       "  </tbody>\n",
       "</table>\n",
       "<p>37178 rows × 8 columns</p>\n",
       "</div>"
      ],
      "text/plain": [
       "         ETBL_ID TERR_GENRE  TERR_ZONE_ID TERR_ZONE_NOM_FR TERR_ZONE_NOM_EN  \\\n",
       "0         838721  principal     292120028    Le mont Royal   The Mont Royal   \n",
       "1         838721  principal         21950         Montréal         Montréal   \n",
       "2         838721  principal          3432         Montréal         Montréal   \n",
       "3         838721  principal          3406           Québec           Quebec   \n",
       "4         838774  principal         22830          Boileau          Boileau   \n",
       "...          ...        ...           ...              ...              ...   \n",
       "37173  500016737  principal          3430      Laurentides      Laurentides   \n",
       "37174  500016737  principal          3406           Québec           Quebec   \n",
       "37175  500016738  principal         21384     Saint-Irénée     Saint-Irénée   \n",
       "37176  500016738  principal          3414       Charlevoix       Charlevoix   \n",
       "37177  500016738  principal          3406           Québec           Quebec   \n",
       "\n",
       "       TERR_ZONE_GENRE_ID  TERR_ZONE_GENRE_FR TERR_ZONE_GENRE_EN  \n",
       "0                  432971  Quartier / secteur    District / Area  \n",
       "1                      91               Ville               City  \n",
       "2                      81              Région               Area  \n",
       "3                      75            Province           Province  \n",
       "4                      91               Ville               City  \n",
       "...                   ...                 ...                ...  \n",
       "37173                  81              Région               Area  \n",
       "37174                  75            Province           Province  \n",
       "37175                  91               Ville               City  \n",
       "37176                  81              Région               Area  \n",
       "37177                  75            Province           Province  \n",
       "\n",
       "[37178 rows x 8 columns]"
      ]
     },
     "execution_count": 19,
     "metadata": {},
     "output_type": "execute_result"
    }
   ],
   "source": [
    "territoires_df"
   ]
  },
  {
   "cell_type": "code",
   "execution_count": 21,
   "id": "f4cea1b1-0eea-4601-943b-7fdebaef9bd1",
   "metadata": {},
   "outputs": [
    {
     "data": {
      "text/plain": [
       "ETBL_ID               0\n",
       "TERR_GENRE            0\n",
       "TERR_ZONE_ID          0\n",
       "TERR_ZONE_NOM_FR      0\n",
       "TERR_ZONE_NOM_EN      0\n",
       "TERR_ZONE_GENRE_ID    0\n",
       "TERR_ZONE_GENRE_FR    0\n",
       "TERR_ZONE_GENRE_EN    0\n",
       "dtype: int64"
      ]
     },
     "execution_count": 21,
     "metadata": {},
     "output_type": "execute_result"
    }
   ],
   "source": [
    "territoires_df.isnull().sum()"
   ]
  },
  {
   "cell_type": "markdown",
   "id": "3766384e-24f6-4050-9ffc-f2b7f498fefe",
   "metadata": {},
   "source": [
    "Pas de valeurs NaN dans territoires_df "
   ]
  },
  {
   "cell_type": "markdown",
   "id": "3f483df2-b286-4972-bb4c-bd81a7c6ec94",
   "metadata": {},
   "source": [
    "# 2. Création trois nouvelles variables"
   ]
  },
  {
   "cell_type": "code",
   "execution_count": 25,
   "id": "35687f31-3daa-4510-9f76-6cd3d7c6b0a9",
   "metadata": {},
   "outputs": [],
   "source": [
    "#Fonction pour enlever les accents\n",
    "def enlever_accents(chaine):\n",
    "    if isinstance(chaine, str):  # Vérifier si la valeur est une chaîne\n",
    "        return ''.join(c for c in unicodedata.normalize('NFD', chaine) if unicodedata.category(c) != 'Mn')\n",
    "    return chaine  # Retourne la valeur inchangée si ce n'est pas une chaîne\n",
    "    \n",
    "# Appliquation de la fonction à la colonne ETBL_DESC_FR\n",
    "etablissements_df['ETBL_DESC_FR'] = etablissements_df['ETBL_DESC_FR'].apply(enlever_accents)"
   ]
  },
  {
   "cell_type": "markdown",
   "id": "9ac0f167-6ed3-401d-8fe9-0873f842f6e8",
   "metadata": {},
   "source": [
    "### Ajout des nouvelles colonnes avec les conditions demandées"
   ]
  },
  {
   "cell_type": "markdown",
   "id": "c01f02bd-c34f-4c77-8060-d8569f9e7eda",
   "metadata": {},
   "source": [
    "\\b : délimite le mot, assurant que la correspondance se fait sur des mots entiers.\n",
    "\n",
    "(s)? : capture le \"s\" optionnel pour inclure les formes pluriel des mots."
   ]
  },
  {
   "cell_type": "code",
   "execution_count": 29,
   "id": "611324d6-9612-4196-8dd8-2f2f0ca32247",
   "metadata": {},
   "outputs": [],
   "source": [
    "# Création de nouvelles colonnes avec des valeurs 0/1 selon la présence des mots\n",
    "etablissements_df['Soleil'] = etablissements_df['ETBL_DESC_FR'].str.contains(r'\\bsoleil(?:s)?\\b', case=False).astype(int)\n",
    "etablissements_df['Foret'] = etablissements_df['ETBL_DESC_FR'].str.contains(r'\\bforet(?:s)?\\b', case=False).astype(int)\n",
    "etablissements_df['Mer'] = etablissements_df['ETBL_DESC_FR'].str.contains(r'\\bmer(?:s)?\\b', case=False).astype(int)\n",
    "etablissements_df['Hebergement'] = etablissements_df['ETBL_DESC_FR'].str.contains(r'\\bhebergement(?:s)?\\b', case=False).astype(int)"
   ]
  },
  {
   "cell_type": "markdown",
   "id": "edb5f6b2-6b35-4798-b0fa-f482da4e26a0",
   "metadata": {},
   "source": [
    "# 3. Création de genre_zone "
   ]
  },
  {
   "cell_type": "code",
   "execution_count": 32,
   "id": "abd66839-25b3-46e1-91e3-72e0b4ab9225",
   "metadata": {},
   "outputs": [
    {
     "data": {
      "text/html": [
       "<div>\n",
       "<style scoped>\n",
       "    .dataframe tbody tr th:only-of-type {\n",
       "        vertical-align: middle;\n",
       "    }\n",
       "\n",
       "    .dataframe tbody tr th {\n",
       "        vertical-align: top;\n",
       "    }\n",
       "\n",
       "    .dataframe thead th {\n",
       "        text-align: right;\n",
       "    }\n",
       "</style>\n",
       "<table border=\"1\" class=\"dataframe\">\n",
       "  <thead>\n",
       "    <tr style=\"text-align: right;\">\n",
       "      <th></th>\n",
       "      <th>ETBL_ID</th>\n",
       "      <th>TERR_GENRE</th>\n",
       "      <th>TERR_ZONE_ID</th>\n",
       "      <th>TERR_ZONE_NOM_FR</th>\n",
       "      <th>TERR_ZONE_NOM_EN</th>\n",
       "      <th>TERR_ZONE_GENRE_ID</th>\n",
       "      <th>TERR_ZONE_GENRE_FR</th>\n",
       "      <th>TERR_ZONE_GENRE_EN</th>\n",
       "    </tr>\n",
       "  </thead>\n",
       "  <tbody>\n",
       "    <tr>\n",
       "      <th>0</th>\n",
       "      <td>838721</td>\n",
       "      <td>principal</td>\n",
       "      <td>292120028</td>\n",
       "      <td>Le mont Royal</td>\n",
       "      <td>The Mont Royal</td>\n",
       "      <td>432971</td>\n",
       "      <td>Quartier / secteur</td>\n",
       "      <td>District / Area</td>\n",
       "    </tr>\n",
       "    <tr>\n",
       "      <th>1</th>\n",
       "      <td>838721</td>\n",
       "      <td>principal</td>\n",
       "      <td>21950</td>\n",
       "      <td>Montréal</td>\n",
       "      <td>Montréal</td>\n",
       "      <td>91</td>\n",
       "      <td>Ville</td>\n",
       "      <td>City</td>\n",
       "    </tr>\n",
       "    <tr>\n",
       "      <th>2</th>\n",
       "      <td>838721</td>\n",
       "      <td>principal</td>\n",
       "      <td>3432</td>\n",
       "      <td>Montréal</td>\n",
       "      <td>Montréal</td>\n",
       "      <td>81</td>\n",
       "      <td>Région</td>\n",
       "      <td>Area</td>\n",
       "    </tr>\n",
       "    <tr>\n",
       "      <th>3</th>\n",
       "      <td>838721</td>\n",
       "      <td>principal</td>\n",
       "      <td>3406</td>\n",
       "      <td>Québec</td>\n",
       "      <td>Quebec</td>\n",
       "      <td>75</td>\n",
       "      <td>Province</td>\n",
       "      <td>Province</td>\n",
       "    </tr>\n",
       "    <tr>\n",
       "      <th>4</th>\n",
       "      <td>838774</td>\n",
       "      <td>principal</td>\n",
       "      <td>22830</td>\n",
       "      <td>Boileau</td>\n",
       "      <td>Boileau</td>\n",
       "      <td>91</td>\n",
       "      <td>Ville</td>\n",
       "      <td>City</td>\n",
       "    </tr>\n",
       "    <tr>\n",
       "      <th>...</th>\n",
       "      <td>...</td>\n",
       "      <td>...</td>\n",
       "      <td>...</td>\n",
       "      <td>...</td>\n",
       "      <td>...</td>\n",
       "      <td>...</td>\n",
       "      <td>...</td>\n",
       "      <td>...</td>\n",
       "    </tr>\n",
       "    <tr>\n",
       "      <th>37173</th>\n",
       "      <td>500016737</td>\n",
       "      <td>principal</td>\n",
       "      <td>3430</td>\n",
       "      <td>Laurentides</td>\n",
       "      <td>Laurentides</td>\n",
       "      <td>81</td>\n",
       "      <td>Région</td>\n",
       "      <td>Area</td>\n",
       "    </tr>\n",
       "    <tr>\n",
       "      <th>37174</th>\n",
       "      <td>500016737</td>\n",
       "      <td>principal</td>\n",
       "      <td>3406</td>\n",
       "      <td>Québec</td>\n",
       "      <td>Quebec</td>\n",
       "      <td>75</td>\n",
       "      <td>Province</td>\n",
       "      <td>Province</td>\n",
       "    </tr>\n",
       "    <tr>\n",
       "      <th>37175</th>\n",
       "      <td>500016738</td>\n",
       "      <td>principal</td>\n",
       "      <td>21384</td>\n",
       "      <td>Saint-Irénée</td>\n",
       "      <td>Saint-Irénée</td>\n",
       "      <td>91</td>\n",
       "      <td>Ville</td>\n",
       "      <td>City</td>\n",
       "    </tr>\n",
       "    <tr>\n",
       "      <th>37176</th>\n",
       "      <td>500016738</td>\n",
       "      <td>principal</td>\n",
       "      <td>3414</td>\n",
       "      <td>Charlevoix</td>\n",
       "      <td>Charlevoix</td>\n",
       "      <td>81</td>\n",
       "      <td>Région</td>\n",
       "      <td>Area</td>\n",
       "    </tr>\n",
       "    <tr>\n",
       "      <th>37177</th>\n",
       "      <td>500016738</td>\n",
       "      <td>principal</td>\n",
       "      <td>3406</td>\n",
       "      <td>Québec</td>\n",
       "      <td>Quebec</td>\n",
       "      <td>75</td>\n",
       "      <td>Province</td>\n",
       "      <td>Province</td>\n",
       "    </tr>\n",
       "  </tbody>\n",
       "</table>\n",
       "<p>37178 rows × 8 columns</p>\n",
       "</div>"
      ],
      "text/plain": [
       "         ETBL_ID TERR_GENRE  TERR_ZONE_ID TERR_ZONE_NOM_FR TERR_ZONE_NOM_EN  \\\n",
       "0         838721  principal     292120028    Le mont Royal   The Mont Royal   \n",
       "1         838721  principal         21950         Montréal         Montréal   \n",
       "2         838721  principal          3432         Montréal         Montréal   \n",
       "3         838721  principal          3406           Québec           Quebec   \n",
       "4         838774  principal         22830          Boileau          Boileau   \n",
       "...          ...        ...           ...              ...              ...   \n",
       "37173  500016737  principal          3430      Laurentides      Laurentides   \n",
       "37174  500016737  principal          3406           Québec           Quebec   \n",
       "37175  500016738  principal         21384     Saint-Irénée     Saint-Irénée   \n",
       "37176  500016738  principal          3414       Charlevoix       Charlevoix   \n",
       "37177  500016738  principal          3406           Québec           Quebec   \n",
       "\n",
       "       TERR_ZONE_GENRE_ID  TERR_ZONE_GENRE_FR TERR_ZONE_GENRE_EN  \n",
       "0                  432971  Quartier / secteur    District / Area  \n",
       "1                      91               Ville               City  \n",
       "2                      81              Région               Area  \n",
       "3                      75            Province           Province  \n",
       "4                      91               Ville               City  \n",
       "...                   ...                 ...                ...  \n",
       "37173                  81              Région               Area  \n",
       "37174                  75            Province           Province  \n",
       "37175                  91               Ville               City  \n",
       "37176                  81              Région               Area  \n",
       "37177                  75            Province           Province  \n",
       "\n",
       "[37178 rows x 8 columns]"
      ]
     },
     "execution_count": 32,
     "metadata": {},
     "output_type": "execute_result"
    }
   ],
   "source": [
    "territoires_df"
   ]
  },
  {
   "cell_type": "code",
   "execution_count": 34,
   "id": "4d737efa-880f-49b9-aad6-18a0cc1e3f9b",
   "metadata": {},
   "outputs": [],
   "source": [
    "def genre_zone(genre):\n",
    "    # Filtrage des données selon le genre de zone donné en argument\n",
    "    filtered_df = territoires_df[territoires_df['TERR_ZONE_GENRE_FR'] == genre]\n",
    "    \n",
    "    # Calcul et affichage du nombre d'ETBL_ID par zone de territoire\n",
    "    result = filtered_df.groupby('TERR_ZONE_NOM_FR')['ETBL_ID'].count()\n",
    "    print(result)\n"
   ]
  },
  {
   "cell_type": "code",
   "execution_count": 36,
   "id": "14b5eea1-9d50-4267-a7ac-7f7dafa918c5",
   "metadata": {},
   "outputs": [
    {
     "name": "stdout",
     "output_type": "stream",
     "text": [
      "TERR_ZONE_NOM_FR\n",
      "Acton Vale    4\n",
      "Adstock       7\n",
      "Aguanish      5\n",
      "Akulivik      1\n",
      "Albanel       3\n",
      "             ..\n",
      "Westbury      1\n",
      "Wickham       1\n",
      "Windsor       3\n",
      "Wotton        7\n",
      "Yamachiche    5\n",
      "Name: ETBL_ID, Length: 918, dtype: int64\n"
     ]
    }
   ],
   "source": [
    "genre_zone('Ville')"
   ]
  },
  {
   "cell_type": "code",
   "execution_count": 38,
   "id": "dcedeb3d-e6d8-46d6-a056-87adf9cee30f",
   "metadata": {},
   "outputs": [
    {
     "name": "stdout",
     "output_type": "stream",
     "text": [
      "TERR_ZONE_NOM_FR\n",
      "Abitibi-Témiscamingue       244\n",
      "Baie-James                   80\n",
      "Bas-Saint-Laurent           498\n",
      "Cantons-de-l'Est           1140\n",
      "Centre-du-Québec            165\n",
      "Charlevoix                  762\n",
      "Chaudière-Appalaches        542\n",
      "Duplessis                   162\n",
      "Eeyou Istchee                 8\n",
      "Gaspésie                    748\n",
      "Lanaudière                  595\n",
      "Laurentides                1781\n",
      "Laval                        22\n",
      "Manicouagan                 213\n",
      "Mauricie                    487\n",
      "Montréal                    541\n",
      "Montérégie                  303\n",
      "Nunavik                      64\n",
      "Outaouais                   447\n",
      "Québec                     1008\n",
      "Saguenay-Lac-Saint-Jean     581\n",
      "Îles-de-la-Madeleine        399\n",
      "Name: ETBL_ID, dtype: int64\n"
     ]
    }
   ],
   "source": [
    "genre_zone('Région')"
   ]
  },
  {
   "cell_type": "markdown",
   "id": "bd8c5295-07b3-4381-a494-1f8de36839eb",
   "metadata": {},
   "source": [
    "# 4.Création du DataFrame"
   ]
  },
  {
   "cell_type": "markdown",
   "id": "e4db3c85-a92f-43dd-84ca-1bc6007c5198",
   "metadata": {},
   "source": [
    "### D'abord je recupere les regions et leurs ETBL_ID dans territoires_filter"
   ]
  },
  {
   "cell_type": "code",
   "execution_count": 42,
   "id": "81e47be9-9b2a-4d4a-943b-21acccc3ead4",
   "metadata": {},
   "outputs": [
    {
     "data": {
      "text/html": [
       "<div>\n",
       "<style scoped>\n",
       "    .dataframe tbody tr th:only-of-type {\n",
       "        vertical-align: middle;\n",
       "    }\n",
       "\n",
       "    .dataframe tbody tr th {\n",
       "        vertical-align: top;\n",
       "    }\n",
       "\n",
       "    .dataframe thead th {\n",
       "        text-align: right;\n",
       "    }\n",
       "</style>\n",
       "<table border=\"1\" class=\"dataframe\">\n",
       "  <thead>\n",
       "    <tr style=\"text-align: right;\">\n",
       "      <th></th>\n",
       "      <th>TERR_ZONE_NOM_FR</th>\n",
       "      <th>ETBL_ID</th>\n",
       "    </tr>\n",
       "  </thead>\n",
       "  <tbody>\n",
       "    <tr>\n",
       "      <th>2</th>\n",
       "      <td>Montréal</td>\n",
       "      <td>838721</td>\n",
       "    </tr>\n",
       "    <tr>\n",
       "      <th>5</th>\n",
       "      <td>Outaouais</td>\n",
       "      <td>838774</td>\n",
       "    </tr>\n",
       "    <tr>\n",
       "      <th>9</th>\n",
       "      <td>Montréal</td>\n",
       "      <td>838885</td>\n",
       "    </tr>\n",
       "    <tr>\n",
       "      <th>13</th>\n",
       "      <td>Montréal</td>\n",
       "      <td>838963</td>\n",
       "    </tr>\n",
       "    <tr>\n",
       "      <th>17</th>\n",
       "      <td>Montréal</td>\n",
       "      <td>839010</td>\n",
       "    </tr>\n",
       "    <tr>\n",
       "      <th>...</th>\n",
       "      <td>...</td>\n",
       "      <td>...</td>\n",
       "    </tr>\n",
       "    <tr>\n",
       "      <th>37163</th>\n",
       "      <td>Québec</td>\n",
       "      <td>500016734</td>\n",
       "    </tr>\n",
       "    <tr>\n",
       "      <th>37166</th>\n",
       "      <td>Saguenay-Lac-Saint-Jean</td>\n",
       "      <td>500016735</td>\n",
       "    </tr>\n",
       "    <tr>\n",
       "      <th>37170</th>\n",
       "      <td>Montréal</td>\n",
       "      <td>500016736</td>\n",
       "    </tr>\n",
       "    <tr>\n",
       "      <th>37173</th>\n",
       "      <td>Laurentides</td>\n",
       "      <td>500016737</td>\n",
       "    </tr>\n",
       "    <tr>\n",
       "      <th>37176</th>\n",
       "      <td>Charlevoix</td>\n",
       "      <td>500016738</td>\n",
       "    </tr>\n",
       "  </tbody>\n",
       "</table>\n",
       "<p>10790 rows × 2 columns</p>\n",
       "</div>"
      ],
      "text/plain": [
       "              TERR_ZONE_NOM_FR    ETBL_ID\n",
       "2                     Montréal     838721\n",
       "5                    Outaouais     838774\n",
       "9                     Montréal     838885\n",
       "13                    Montréal     838963\n",
       "17                    Montréal     839010\n",
       "...                        ...        ...\n",
       "37163                   Québec  500016734\n",
       "37166  Saguenay-Lac-Saint-Jean  500016735\n",
       "37170                 Montréal  500016736\n",
       "37173              Laurentides  500016737\n",
       "37176               Charlevoix  500016738\n",
       "\n",
       "[10790 rows x 2 columns]"
      ]
     },
     "execution_count": 42,
     "metadata": {},
     "output_type": "execute_result"
    }
   ],
   "source": [
    "mask_region = territoires_df['TERR_ZONE_GENRE_FR'] == 'Région'\n",
    "result = territoires_df[mask_region]\n",
    "territoires_filter =result[['TERR_ZONE_NOM_FR', 'ETBL_ID']]\n",
    "territoires_filter"
   ]
  },
  {
   "cell_type": "markdown",
   "id": "0f13da30-9a8b-4c8e-988d-0ee8b83dbf6b",
   "metadata": {},
   "source": [
    "### Ensuite, je recupere les classifications avec CARACT_ATTRB_NOM_FR et ETBL_ID"
   ]
  },
  {
   "cell_type": "code",
   "execution_count": 45,
   "id": "32cdec5b-c6c5-4aa8-a23b-023dffa2c4a8",
   "metadata": {},
   "outputs": [
    {
     "data": {
      "text/html": [
       "<div>\n",
       "<style scoped>\n",
       "    .dataframe tbody tr th:only-of-type {\n",
       "        vertical-align: middle;\n",
       "    }\n",
       "\n",
       "    .dataframe tbody tr th {\n",
       "        vertical-align: top;\n",
       "    }\n",
       "\n",
       "    .dataframe thead th {\n",
       "        text-align: right;\n",
       "    }\n",
       "</style>\n",
       "<table border=\"1\" class=\"dataframe\">\n",
       "  <thead>\n",
       "    <tr style=\"text-align: right;\">\n",
       "      <th></th>\n",
       "      <th>CARACT_ATTRB_NOM_FR</th>\n",
       "      <th>ETBL_ID</th>\n",
       "    </tr>\n",
       "  </thead>\n",
       "  <tbody>\n",
       "    <tr>\n",
       "      <th>26</th>\n",
       "      <td>2 étoiles</td>\n",
       "      <td>838721</td>\n",
       "    </tr>\n",
       "    <tr>\n",
       "      <th>58</th>\n",
       "      <td>2 étoiles</td>\n",
       "      <td>838774</td>\n",
       "    </tr>\n",
       "    <tr>\n",
       "      <th>90</th>\n",
       "      <td>3 étoiles</td>\n",
       "      <td>838885</td>\n",
       "    </tr>\n",
       "    <tr>\n",
       "      <th>114</th>\n",
       "      <td>3 étoiles</td>\n",
       "      <td>838963</td>\n",
       "    </tr>\n",
       "    <tr>\n",
       "      <th>148</th>\n",
       "      <td>1 étoile supérieur</td>\n",
       "      <td>839010</td>\n",
       "    </tr>\n",
       "    <tr>\n",
       "      <th>...</th>\n",
       "      <td>...</td>\n",
       "      <td>...</td>\n",
       "    </tr>\n",
       "    <tr>\n",
       "      <th>341227</th>\n",
       "      <td>En cours d'évaluation</td>\n",
       "      <td>500016734</td>\n",
       "    </tr>\n",
       "    <tr>\n",
       "      <th>341235</th>\n",
       "      <td>En cours d'évaluation</td>\n",
       "      <td>500016735</td>\n",
       "    </tr>\n",
       "    <tr>\n",
       "      <th>341259</th>\n",
       "      <td>En cours d'évaluation</td>\n",
       "      <td>500016736</td>\n",
       "    </tr>\n",
       "    <tr>\n",
       "      <th>341281</th>\n",
       "      <td>En cours d'évaluation</td>\n",
       "      <td>500016737</td>\n",
       "    </tr>\n",
       "    <tr>\n",
       "      <th>341318</th>\n",
       "      <td>En cours d'évaluation</td>\n",
       "      <td>500016738</td>\n",
       "    </tr>\n",
       "  </tbody>\n",
       "</table>\n",
       "<p>11128 rows × 2 columns</p>\n",
       "</div>"
      ],
      "text/plain": [
       "          CARACT_ATTRB_NOM_FR    ETBL_ID\n",
       "26                  2 étoiles     838721\n",
       "58                  2 étoiles     838774\n",
       "90                  3 étoiles     838885\n",
       "114                 3 étoiles     838963\n",
       "148        1 étoile supérieur     839010\n",
       "...                       ...        ...\n",
       "341227  En cours d'évaluation  500016734\n",
       "341235  En cours d'évaluation  500016735\n",
       "341259  En cours d'évaluation  500016736\n",
       "341281  En cours d'évaluation  500016737\n",
       "341318  En cours d'évaluation  500016738\n",
       "\n",
       "[11128 rows x 2 columns]"
      ]
     },
     "execution_count": 45,
     "metadata": {},
     "output_type": "execute_result"
    }
   ],
   "source": [
    "caracteristiques_mask = caracteristiques_df['CARACT_NOM_FR'] == 'Classification'\n",
    "result = caracteristiques_df[caracteristiques_mask]\n",
    "caracteristiques_filtrer = result[['CARACT_ATTRB_NOM_FR', 'ETBL_ID']]\n",
    "caracteristiques_filtrer"
   ]
  },
  {
   "cell_type": "markdown",
   "id": "43c92b8b-7fd3-4638-a77d-f6aaf646b04e",
   "metadata": {},
   "source": [
    "### Fusion des DataFrames"
   ]
  },
  {
   "cell_type": "code",
   "execution_count": 48,
   "id": "c5e50d86-e3d4-4f8d-a426-db8c2e424519",
   "metadata": {},
   "outputs": [
    {
     "data": {
      "text/html": [
       "<div>\n",
       "<style scoped>\n",
       "    .dataframe tbody tr th:only-of-type {\n",
       "        vertical-align: middle;\n",
       "    }\n",
       "\n",
       "    .dataframe tbody tr th {\n",
       "        vertical-align: top;\n",
       "    }\n",
       "\n",
       "    .dataframe thead th {\n",
       "        text-align: right;\n",
       "    }\n",
       "</style>\n",
       "<table border=\"1\" class=\"dataframe\">\n",
       "  <thead>\n",
       "    <tr style=\"text-align: right;\">\n",
       "      <th></th>\n",
       "      <th>TERR_ZONE_NOM_FR</th>\n",
       "      <th>CARACT_ATTRB_NOM_FR</th>\n",
       "      <th>Nombre_ETBL_ID</th>\n",
       "    </tr>\n",
       "  </thead>\n",
       "  <tbody>\n",
       "    <tr>\n",
       "      <th>0</th>\n",
       "      <td>Abitibi-Témiscamingue</td>\n",
       "      <td>0 étoile</td>\n",
       "      <td>23</td>\n",
       "    </tr>\n",
       "    <tr>\n",
       "      <th>1</th>\n",
       "      <td>Abitibi-Témiscamingue</td>\n",
       "      <td>1 étoile</td>\n",
       "      <td>36</td>\n",
       "    </tr>\n",
       "    <tr>\n",
       "      <th>2</th>\n",
       "      <td>Abitibi-Témiscamingue</td>\n",
       "      <td>2 soleils</td>\n",
       "      <td>1</td>\n",
       "    </tr>\n",
       "    <tr>\n",
       "      <th>3</th>\n",
       "      <td>Abitibi-Témiscamingue</td>\n",
       "      <td>2 étoiles</td>\n",
       "      <td>84</td>\n",
       "    </tr>\n",
       "    <tr>\n",
       "      <th>4</th>\n",
       "      <td>Abitibi-Témiscamingue</td>\n",
       "      <td>3 soleils</td>\n",
       "      <td>5</td>\n",
       "    </tr>\n",
       "    <tr>\n",
       "      <th>...</th>\n",
       "      <td>...</td>\n",
       "      <td>...</td>\n",
       "      <td>...</td>\n",
       "    </tr>\n",
       "    <tr>\n",
       "      <th>222</th>\n",
       "      <td>Îles-de-la-Madeleine</td>\n",
       "      <td>3 soleils</td>\n",
       "      <td>6</td>\n",
       "    </tr>\n",
       "    <tr>\n",
       "      <th>223</th>\n",
       "      <td>Îles-de-la-Madeleine</td>\n",
       "      <td>3 étoiles</td>\n",
       "      <td>205</td>\n",
       "    </tr>\n",
       "    <tr>\n",
       "      <th>224</th>\n",
       "      <td>Îles-de-la-Madeleine</td>\n",
       "      <td>4 soleils</td>\n",
       "      <td>5</td>\n",
       "    </tr>\n",
       "    <tr>\n",
       "      <th>225</th>\n",
       "      <td>Îles-de-la-Madeleine</td>\n",
       "      <td>4 étoiles</td>\n",
       "      <td>25</td>\n",
       "    </tr>\n",
       "    <tr>\n",
       "      <th>226</th>\n",
       "      <td>Îles-de-la-Madeleine</td>\n",
       "      <td>En cours d'évaluation</td>\n",
       "      <td>37</td>\n",
       "    </tr>\n",
       "  </tbody>\n",
       "</table>\n",
       "<p>227 rows × 3 columns</p>\n",
       "</div>"
      ],
      "text/plain": [
       "          TERR_ZONE_NOM_FR    CARACT_ATTRB_NOM_FR  Nombre_ETBL_ID\n",
       "0    Abitibi-Témiscamingue               0 étoile              23\n",
       "1    Abitibi-Témiscamingue               1 étoile              36\n",
       "2    Abitibi-Témiscamingue              2 soleils               1\n",
       "3    Abitibi-Témiscamingue              2 étoiles              84\n",
       "4    Abitibi-Témiscamingue              3 soleils               5\n",
       "..                     ...                    ...             ...\n",
       "222   Îles-de-la-Madeleine              3 soleils               6\n",
       "223   Îles-de-la-Madeleine              3 étoiles             205\n",
       "224   Îles-de-la-Madeleine              4 soleils               5\n",
       "225   Îles-de-la-Madeleine              4 étoiles              25\n",
       "226   Îles-de-la-Madeleine  En cours d'évaluation              37\n",
       "\n",
       "[227 rows x 3 columns]"
      ]
     },
     "execution_count": 48,
     "metadata": {},
     "output_type": "execute_result"
    }
   ],
   "source": [
    "merged_df_4 = pd.merge(territoires_filter, caracteristiques_filtrer, on='ETBL_ID', how='left')\n",
    "# Compter le nombre d'ETBL_ID par région et par type de classification\n",
    "merged_df_4 = merged_df_4.groupby(['TERR_ZONE_NOM_FR', 'CARACT_ATTRB_NOM_FR']).agg(Nombre_ETBL_ID=('ETBL_ID', 'count')).reset_index()\n",
    "# Remplacer les NaN par 0\n",
    "merged_df_4['Nombre_ETBL_ID'] = merged_df_4['Nombre_ETBL_ID'].fillna(0)\n",
    "merged_df_4"
   ]
  },
  {
   "cell_type": "markdown",
   "id": "d1dd48ad-6d22-4ca1-87ce-8c45dc5213b6",
   "metadata": {},
   "source": [
    "### Utilisation de l'indexation hiérarchique pour afficher le nombre d'ETBL_ID pour chaque type de classification dans chacune des régions"
   ]
  },
  {
   "cell_type": "code",
   "execution_count": 51,
   "id": "16367566-bafd-4cc7-a146-72696ebd4789",
   "metadata": {
    "scrolled": true
   },
   "outputs": [
    {
     "data": {
      "text/html": [
       "<div>\n",
       "<style scoped>\n",
       "    .dataframe tbody tr th:only-of-type {\n",
       "        vertical-align: middle;\n",
       "    }\n",
       "\n",
       "    .dataframe tbody tr th {\n",
       "        vertical-align: top;\n",
       "    }\n",
       "\n",
       "    .dataframe thead th {\n",
       "        text-align: right;\n",
       "    }\n",
       "</style>\n",
       "<table border=\"1\" class=\"dataframe\">\n",
       "  <thead>\n",
       "    <tr style=\"text-align: right;\">\n",
       "      <th></th>\n",
       "      <th></th>\n",
       "      <th></th>\n",
       "    </tr>\n",
       "    <tr>\n",
       "      <th>TERR_ZONE_NOM_FR</th>\n",
       "      <th>CARACT_ATTRB_NOM_FR</th>\n",
       "      <th>Nombre_ETBL_ID</th>\n",
       "    </tr>\n",
       "  </thead>\n",
       "  <tbody>\n",
       "    <tr>\n",
       "      <th rowspan=\"5\" valign=\"top\">Abitibi-Témiscamingue</th>\n",
       "      <th>0 étoile</th>\n",
       "      <th>23</th>\n",
       "    </tr>\n",
       "    <tr>\n",
       "      <th>1 étoile</th>\n",
       "      <th>36</th>\n",
       "    </tr>\n",
       "    <tr>\n",
       "      <th>2 soleils</th>\n",
       "      <th>1</th>\n",
       "    </tr>\n",
       "    <tr>\n",
       "      <th>2 étoiles</th>\n",
       "      <th>84</th>\n",
       "    </tr>\n",
       "    <tr>\n",
       "      <th>3 soleils</th>\n",
       "      <th>5</th>\n",
       "    </tr>\n",
       "    <tr>\n",
       "      <th>...</th>\n",
       "      <th>...</th>\n",
       "      <th>...</th>\n",
       "    </tr>\n",
       "    <tr>\n",
       "      <th rowspan=\"5\" valign=\"top\">Îles-de-la-Madeleine</th>\n",
       "      <th>3 soleils</th>\n",
       "      <th>6</th>\n",
       "    </tr>\n",
       "    <tr>\n",
       "      <th>3 étoiles</th>\n",
       "      <th>205</th>\n",
       "    </tr>\n",
       "    <tr>\n",
       "      <th>4 soleils</th>\n",
       "      <th>5</th>\n",
       "    </tr>\n",
       "    <tr>\n",
       "      <th>4 étoiles</th>\n",
       "      <th>25</th>\n",
       "    </tr>\n",
       "    <tr>\n",
       "      <th>En cours d'évaluation</th>\n",
       "      <th>37</th>\n",
       "    </tr>\n",
       "  </tbody>\n",
       "</table>\n",
       "<p>227 rows × 0 columns</p>\n",
       "</div>"
      ],
      "text/plain": [
       "Empty DataFrame\n",
       "Columns: []\n",
       "Index: [(Abitibi-Témiscamingue, 0 étoile, 23), (Abitibi-Témiscamingue, 1 étoile, 36), (Abitibi-Témiscamingue, 2 soleils, 1), (Abitibi-Témiscamingue, 2 étoiles, 84), (Abitibi-Témiscamingue, 3 soleils, 5), (Abitibi-Témiscamingue, 3 étoiles, 98), (Abitibi-Témiscamingue, 4 soleils, 2), (Abitibi-Témiscamingue, 4 étoiles, 52), (Abitibi-Témiscamingue, 5 étoiles, 6), (Abitibi-Témiscamingue, En cours d'évaluation, 12), (Baie-James, 0 étoile, 2), (Baie-James, 1 soleil, 1), (Baie-James, 1 étoile, 19), (Baie-James, 2 soleils, 1), (Baie-James, 2 étoiles, 23), (Baie-James, 3 soleils, 4), (Baie-James, 3 étoiles, 9), (Baie-James, 4 soleils, 1), (Baie-James, Non classifié, 19), (Bas-Saint-Laurent, 0 étoile, 14), (Bas-Saint-Laurent, 1 étoile, 53), (Bas-Saint-Laurent, 1 étoile supérieur, 1), (Bas-Saint-Laurent, 2 soleils, 5), (Bas-Saint-Laurent, 2 étoiles, 148), (Bas-Saint-Laurent, 2 étoiles supérieur, 2), (Bas-Saint-Laurent, 3 soleils, 28), (Bas-Saint-Laurent, 3 étoiles, 149), (Bas-Saint-Laurent, 4 soleils, 16), (Bas-Saint-Laurent, 4 étoiles, 29), (Bas-Saint-Laurent, 5 étoiles, 1), (Bas-Saint-Laurent, En cours d'évaluation, 57), (Cantons-de-l'Est, 0 étoile, 8), (Cantons-de-l'Est, 1 soleil, 1), (Cantons-de-l'Est, 1 étoile, 39), (Cantons-de-l'Est, 2 soleils, 7), (Cantons-de-l'Est, 2 étoiles, 162), (Cantons-de-l'Est, 2 étoiles supérieur, 2), (Cantons-de-l'Est, 3 soleils, 59), (Cantons-de-l'Est, 3 étoiles, 439), (Cantons-de-l'Est, 3 étoiles supérieur, 1), (Cantons-de-l'Est, 4 soleils, 83), (Cantons-de-l'Est, 4 étoiles, 115), (Cantons-de-l'Est, 5 soleils, 3), (Cantons-de-l'Est, 5 étoiles, 5), (Cantons-de-l'Est, En cours d'évaluation, 211), (Centre-du-Québec, 0 étoile, 1), (Centre-du-Québec, 1 étoile, 4), (Centre-du-Québec, 2 soleils, 2), (Centre-du-Québec, 2 étoiles, 31), (Centre-du-Québec, 3 soleils, 6), (Centre-du-Québec, 3 étoiles, 56), (Centre-du-Québec, 4 soleils, 9), (Centre-du-Québec, 4 étoiles, 29), (Centre-du-Québec, En cours d'évaluation, 26), (Centre-du-Québec, Non classifié, 1), (Charlevoix, 0 étoile, 3), (Charlevoix, 1 étoile, 25), (Charlevoix, 2 soleils, 9), (Charlevoix, 2 étoiles, 104), (Charlevoix, 2 étoiles supérieur, 2), (Charlevoix, 3 soleils, 29), (Charlevoix, 3 étoiles, 313), (Charlevoix, 4 soleils, 26), (Charlevoix, 4 étoiles, 162), (Charlevoix, 5 étoiles, 6), (Charlevoix, En cours d'évaluation, 100), (Chaudière-Appalaches, 0 étoile, 6), (Chaudière-Appalaches, 1 étoile, 42), (Chaudière-Appalaches, 2 soleils, 1), (Chaudière-Appalaches, 2 étoiles, 130), (Chaudière-Appalaches, 3 soleils, 33), (Chaudière-Appalaches, 3 étoiles, 199), (Chaudière-Appalaches, 4 soleils, 23), (Chaudière-Appalaches, 4 étoiles, 47), (Chaudière-Appalaches, 5 soleils, 1), (Chaudière-Appalaches, 5 étoiles, 4), (Chaudière-Appalaches, En cours d'évaluation, 64), (Duplessis, 0 étoile, 4), (Duplessis, 1 étoile, 24), (Duplessis, 2 soleils, 6), (Duplessis, 2 étoiles, 51), (Duplessis, 2 étoiles supérieur, 2), (Duplessis, 3 soleils, 12), (Duplessis, 3 étoiles, 51), (Duplessis, 4 soleils, 2), (Duplessis, 4 étoiles, 18), (Duplessis, 5 étoiles, 2), (Duplessis, En cours d'évaluation, 5), (Duplessis, Non classifié, 8), (Eeyou Istchee, 1 étoile, 1), (Eeyou Istchee, 2 étoiles, 2), (Eeyou Istchee, 3 étoiles, 2), (Eeyou Istchee, 3 étoiles supérieur, 1), (Eeyou Istchee, En cours d'évaluation, 2), (Gaspésie, 0 étoile, 20), (Gaspésie, 1 étoile, 82), (Gaspésie, 2 soleils, 6), (Gaspésie, 2 étoiles, 236), (Gaspésie, 2 étoiles supérieur, 1), (Gaspésie, 3 soleils, 50), ...]\n",
       "\n",
       "[227 rows x 0 columns]"
      ]
     },
     "execution_count": 51,
     "metadata": {},
     "output_type": "execute_result"
    }
   ],
   "source": [
    "multi_index = pd.MultiIndex.from_frame(merged_df_4[['TERR_ZONE_NOM_FR','CARACT_ATTRB_NOM_FR','Nombre_ETBL_ID']])\n",
    "merged_df_4.index = multi_index\n",
    "merged_df_4.drop(columns=['TERR_ZONE_NOM_FR','CARACT_ATTRB_NOM_FR','Nombre_ETBL_ID'], inplace=True)\n",
    "merged_df_4"
   ]
  },
  {
   "cell_type": "markdown",
   "id": "50923370-5326-4f50-b133-a7acc8095c0a",
   "metadata": {},
   "source": [
    "## Sélectionnons le nombre de ETBL_ID pour la region Abitibi-Témiscamingue et qui ont 0 étoile"
   ]
  },
  {
   "cell_type": "code",
   "execution_count": 58,
   "id": "46f6df4c-87dc-4ef4-b2d6-f602e14d9647",
   "metadata": {},
   "outputs": [
    {
     "data": {
      "text/html": [
       "<div>\n",
       "<style scoped>\n",
       "    .dataframe tbody tr th:only-of-type {\n",
       "        vertical-align: middle;\n",
       "    }\n",
       "\n",
       "    .dataframe tbody tr th {\n",
       "        vertical-align: top;\n",
       "    }\n",
       "\n",
       "    .dataframe thead th {\n",
       "        text-align: right;\n",
       "    }\n",
       "</style>\n",
       "<table border=\"1\" class=\"dataframe\">\n",
       "  <thead>\n",
       "    <tr style=\"text-align: right;\">\n",
       "      <th></th>\n",
       "    </tr>\n",
       "    <tr>\n",
       "      <th>Nombre_ETBL_ID</th>\n",
       "    </tr>\n",
       "  </thead>\n",
       "  <tbody>\n",
       "    <tr>\n",
       "      <th>23</th>\n",
       "    </tr>\n",
       "  </tbody>\n",
       "</table>\n",
       "</div>"
      ],
      "text/plain": [
       "Empty DataFrame\n",
       "Columns: []\n",
       "Index: [23]"
      ]
     },
     "execution_count": 58,
     "metadata": {},
     "output_type": "execute_result"
    }
   ],
   "source": [
    "merged_df_4.loc[pd.IndexSlice['Abitibi-Témiscamingue','0 étoile' ]]"
   ]
  },
  {
   "cell_type": "markdown",
   "id": "dcb5bdc7-eaa8-4bf7-86aa-af085b084ddf",
   "metadata": {},
   "source": [
    "## 5. Affichage du nom d'établissement (ETBL_NOM_FR) avec le plus d'activités disponibles\n"
   ]
  },
  {
   "cell_type": "code",
   "execution_count": 61,
   "id": "eda4b2a6-aa9d-4953-8867-db82ad8bba19",
   "metadata": {},
   "outputs": [],
   "source": [
    "merge_etabl_carac = pd.merge(etablissements_df, caracteristiques_df, on='ETBL_ID')"
   ]
  },
  {
   "cell_type": "markdown",
   "id": "3d3704f1-6d7b-415b-9d80-f0d723d28a07",
   "metadata": {},
   "source": [
    "### Comptage des activités uniques"
   ]
  },
  {
   "cell_type": "code",
   "execution_count": 64,
   "id": "3fa33418-8b22-4a48-8427-e08fa0cdd6f8",
   "metadata": {},
   "outputs": [],
   "source": [
    "activities_count = merge_etabl_carac.groupby('ETBL_NOM_FR')['CARACT_ATTRB_NOM_FR'].nunique()"
   ]
  },
  {
   "cell_type": "code",
   "execution_count": 66,
   "id": "259173c1-ad6a-4e9c-a005-e9dd14bb4336",
   "metadata": {},
   "outputs": [
    {
     "name": "stdout",
     "output_type": "stream",
     "text": [
      "L'établissement avec le plus d'activités est CENTRE DE VACANCES NATURE - AUBERGE EVA avec 89 activités.\n"
     ]
    }
   ],
   "source": [
    "max_activities_etablissement = activities_count.idxmax()\n",
    "max_activities_count = activities_count.max()\n",
    "\n",
    "print(f\"L'établissement avec le plus d'activités est {max_activities_etablissement} avec {max_activities_count} activités.\")\n"
   ]
  },
  {
   "cell_type": "markdown",
   "id": "8e847855-ad27-4f2d-8579-127a4ec78b24",
   "metadata": {},
   "source": [
    "## 6. Définission de find_nearby_locations"
   ]
  },
  {
   "cell_type": "code",
   "execution_count": 69,
   "id": "06e889fa-1ac1-46cf-944e-3d27d4db9047",
   "metadata": {},
   "outputs": [],
   "source": [
    "\n",
    "def find_nearby_locations(lat, lon, max_distance_km):\n",
    "    \"\"\"\n",
    "    Trouve les établissements situés dans un rayon donné autour de coordonnées géographiques spécifiées.\n",
    "\n",
    "    Paramètres :\n",
    "    - lat (float) : Latitude du point de départ en degrés.\n",
    "    - lon (float) : Longitude du point de départ en degrés.\n",
    "    - max_distance_km (float) : Distance maximale (en kilomètres) autour du point de départ.\n",
    "\n",
    "    Retourne :\n",
    "    - list : Liste de tuples contenant le nom de chaque établissement et sa distance par rapport aux coordonnées fournies.\n",
    "    \"\"\"\n",
    "    \n",
    "    # Initialisation de la liste qui contiendra les établissements proches\n",
    "    nearby_locations = []\n",
    "\n",
    "    # Conversion des coordonnées d'entrée en radians\n",
    "    lat_rad = math.radians(lat)\n",
    "    lon_rad = math.radians(lon)\n",
    "\n",
    "    # Rayon de la Terre en kilomètres\n",
    "    R = 6371\n",
    "\n",
    "    # Parcours des établissements dans adresses_df pour calculer la distance\n",
    "    for index, row in adresses_df.iterrows():\n",
    "        etablissement_id = row['ETBL_ID']  # Identifiant de l'établissement\n",
    "\n",
    "        # Conversion des coordonnées de l'établissement en radians\n",
    "        etablissement_lat_rad = math.radians(row['ADR_LATITUDE'])\n",
    "        etablissement_lon_rad = math.radians(row['ADR_LONGITUDE'])\n",
    "        \n",
    "        # Calcul de la différence de latitude et longitude\n",
    "        dlat = etablissement_lat_rad - lat_rad\n",
    "        dlon = etablissement_lon_rad - lon_rad\n",
    "\n",
    "        # Application de la formule de Haversine\n",
    "        a = math.sin(dlat / 2)**2 + math.cos(lat_rad) * math.cos(etablissement_lat_rad) * math.sin(dlon / 2)**2\n",
    "        c = 2 * math.atan2(math.sqrt(a), math.sqrt(1 - a))\n",
    "        distance = R * c  # Distance en kilomètres\n",
    "        \n",
    "        # Si la distance est inférieure ou égale à la distance maximale, on ajoute l'établissement\n",
    "        if distance <= max_distance_km:\n",
    "            # Recherche du nom de l'établissement dans etablissements_df via ETBL_ID\n",
    "            etablissement_name = etablissements_df.loc[etablissements_df['ETBL_ID'] == etablissement_id, 'ETBL_NOM_FR'].values[0]\n",
    "            # Ajout du nom de l'établissement et de la distance à la liste des résultats\n",
    "            nearby_locations.append((etablissement_name, distance))\n",
    "    \n",
    "    # Retourne la liste des établissements proches\n",
    "    return nearby_locations\n"
   ]
  },
  {
   "cell_type": "code",
   "execution_count": 71,
   "id": "9a807b78-1aea-4763-9394-c4c6b01795bb",
   "metadata": {},
   "outputs": [],
   "source": [
    "res = find_nearby_locations(50.238262, -62.166747, 5)"
   ]
  },
  {
   "cell_type": "code",
   "execution_count": 73,
   "id": "9fce031a-fbe7-46a1-a8cb-6ac5a07cfadd",
   "metadata": {},
   "outputs": [
    {
     "data": {
      "text/plain": [
       "[('AUBERGE MOTEL AGUANISH', 0.0),\n",
       " ('HÉBERGEMENT DE LA CHUTE', 1.724866694149233),\n",
       " ('POURVOIRIE NABISIPI UENAPEUHIPU INC.', 3.6916278357913677)]"
      ]
     },
     "execution_count": 73,
     "metadata": {},
     "output_type": "execute_result"
    }
   ],
   "source": [
    "res"
   ]
  },
  {
   "cell_type": "markdown",
   "id": "f550a304-d091-4ee1-91b1-9bc498160fd9",
   "metadata": {},
   "source": [
    "## 7. Réalisation des Visualisations"
   ]
  },
  {
   "cell_type": "code",
   "execution_count": 76,
   "id": "6dfcf3dd-60fd-48e0-97bc-4f8db372b8cd",
   "metadata": {},
   "outputs": [
    {
     "data": {
      "image/png": "[encoded data removed]",
      "text/plain": [
       "<Figure size 1000x600 with 1 Axes>"
      ]
     },
     "metadata": {},
     "output_type": "display_data"
    }
   ],
   "source": [
    "\n",
    "# Fusionnons les deux DataFrames sur la colonne 'ETBL_ID' pour obtenir une table avec les types d'établissements\n",
    "# Cela permet d'associer les informations du type à chaque établissement\n",
    "merged_df = pd.merge(etablissements_df, type_df, on='ETBL_ID')\n",
    "\n",
    "# Compter le nombre d'établissements pour chaque type d'hébergement\n",
    "# 'ETBL_TYPE_FR' correspond au type d'établissement en français\n",
    "type_counts = merged_df['ETBL_TYPE_FR'].value_counts()\n",
    "\n",
    "# Créer un graphique en barres pour visualiser la répartition des types d'établissements\n",
    "plt.figure(figsize=(10,6))  # Définir la taille du graphique\n",
    "type_counts.plot(kind='bar', color='skyblue')  # Utiliser un graphique à barres avec une couleur bleu clair\n",
    "plt.title('Répartition des types d\\'établissements')  # Titre du graphique\n",
    "plt.xlabel('Type d\\'établissement')  # Légende de l'axe X (types d'établissements)\n",
    "plt.ylabel('Nombre d\\'établissements')  # Légende de l'axe Y (nombre d'établissements)\n",
    "plt.xticks(rotation=45, ha='right')  # Faire pivoter les étiquettes de l'axe X pour une meilleure lisibilité\n",
    "plt.tight_layout()  # Ajuster la disposition pour éviter le chevauchement\n",
    "plt.show()  # Afficher le graphique\n"
   ]
  },
  {
   "cell_type": "markdown",
   "id": "edd2e3d4-28b2-45f4-b195-f3c94573b063",
   "metadata": {},
   "source": [
    "### Explication : \n",
    "Dans cette première étape, nous avons commencé par fusionner les deux DataFrames etablissements_df et type_df sur la colonne clé ETBL_ID. Cette fusion nous permet d'ajouter des informations sur le type d'établissement pour chaque ligne de l'ensemble de données etablissements_df. Ensuite, nous avons utilisé la méthode value_counts() pour compter le nombre d'établissements dans chaque catégorie de type d'établissement."
   ]
  },
  {
   "cell_type": "markdown",
   "id": "85e77089-33c6-4669-ab78-dbcbafdaae60",
   "metadata": {},
   "source": [
    "### Réflexion :\n",
    "Nous avons choisi cette approche pour comprendre la répartition des types d'établissements avant de poursuivre l'analyse. Cela nous permet de voir immédiatement quels types sont les plus fréquents et de cibler nos futures analyses et visualisations sur ces types. Nous avons opté pour un graphique en barres, qui est idéal pour visualiser la fréquence des différentes catégories."
   ]
  },
  {
   "cell_type": "markdown",
   "id": "c222ad65-24b0-4d79-88b4-86530062f9c1",
   "metadata": {},
   "source": [
    "### Constats :\n",
    "On remarque que les \"Chalets / appartements / résidences de tourisme\" sont nettement plus nombreux que les autres types d'établissements, avec plus de 5000 établissements dans cette catégorie. Cela suggère qu'il y a une forte demande pour ce type d'hébergement, probablement en raison de son attrait pour les vacanciers qui recherchent des logements indépendants et spacieux, souvent dans des destinations touristiques populaires. Cette catégorie d'hébergement pourrait répondre à un large éventail de besoins, allant des familles aux groupes d'amis, et pourrait aussi être populaire en raison de son côté pratique, notamment pour des séjours prolongés ou en dehors des saisons de pointe."
   ]
  },
  {
   "cell_type": "markdown",
   "id": "e823852d-62ec-4a41-bb62-351d9acf9d1f",
   "metadata": {},
   "source": [
    "### Prochaine étape : Analyse de la catégorie \"Chalets / appartements / résidences de tourisme\""
   ]
  },
  {
   "cell_type": "markdown",
   "id": "61f31c56-c6d0-4e84-a7b8-2a1495073018",
   "metadata": {},
   "source": [
    "Filtrer les lignes où 'ETBL_TYPE_FR' est égal à 'Chalet / appartement / résidence de tourisme'"
   ]
  },
  {
   "cell_type": "code",
   "execution_count": 95,
   "id": "d0d133fb-1da0-4574-a32e-2f5420e8e8c1",
   "metadata": {},
   "outputs": [],
   "source": [
    "types_df_filtred = type_df[['ETBL_ID','ETBL_TYPE_FR']]\n"
   ]
  },
  {
   "cell_type": "markdown",
   "id": "ad49b69c-4223-489f-bbdc-2c3a19066f70",
   "metadata": {},
   "source": [
    "Supprimer les lignes contenant des valeurs NaN dans 'types_df_filtred'"
   ]
  },
  {
   "cell_type": "code",
   "execution_count": 99,
   "id": "e19c39bd-fb40-4ca4-8568-4961ed371f54",
   "metadata": {},
   "outputs": [],
   "source": [
    "types_df_filtred = types_df_filtred.dropna()"
   ]
  },
  {
   "cell_type": "markdown",
   "id": "71b4781d-854a-4170-b00f-194c4ce4081b",
   "metadata": {},
   "source": [
    "Fusionner types_df_filtred et adresses_df_filtered sur 'ETBL_ID'"
   ]
  },
  {
   "cell_type": "code",
   "execution_count": 101,
   "id": "02555626-e6cb-43c0-b86d-aa241896caee",
   "metadata": {},
   "outputs": [],
   "source": [
    "types_df_with_municipalite = pd.merge(types_df_filtred, adresses_df_filtered, on='ETBL_ID', how='left')\n"
   ]
  },
  {
   "cell_type": "code",
   "execution_count": 89,
   "id": "76d0eeca-d36e-4e0b-849f-739137c9ddd8",
   "metadata": {},
   "outputs": [
    {
     "data": {
      "image/png": "[encoded data removed]",
      "text/plain": [
       "<Figure size 1000x600 with 1 Axes>"
      ]
     },
     "metadata": {},
     "output_type": "display_data"
    }
   ],
   "source": [
    "# Filtrer les caractéristiques pour obtenir uniquement celles liées à la \"Classification\"\n",
    "classification_df = caracteristiques_df[caracteristiques_df['CARACT_NOM_FR'] == 'Classification']\n",
    "\n",
    "# Effectuer la jointure entre types_df_with_municipalite et classification_df sur 'ETBL_ID'\n",
    "types_df_with_municipalite_and_classification = pd.merge(\n",
    "    types_df_with_municipalite, \n",
    "    classification_df[['ETBL_ID', 'CARACT_ATTRB_NOM_FR']], \n",
    "    on='ETBL_ID', \n",
    "    how='left'\n",
    ")\n",
    "\n",
    "# Renommer la colonne pour mieux refléter la classification\n",
    "types_df_with_municipalite_and_classification.rename(columns={'CARACT_ATTRB_NOM_FR': 'Classification'}, inplace=True)\n",
    "\n",
    "# Compter le nombre d'établissements par classification\n",
    "classification_counts = types_df_with_municipalite_and_classification['Classification'].value_counts()\n",
    "\n",
    "# Filtrer les établissements de type \"Chalet / appartement / résidence de tourisme\"\n",
    "chalet_type_df = types_df_with_municipalite_and_classification[types_df_with_municipalite_and_classification['ETBL_TYPE_FR'] == 'Chalet / appartement / résidence de tourisme']\n",
    "\n",
    "\n",
    "classification_moyenne = chalet_type_df.groupby('Classification')['ETBL_ID'].count()\n",
    "\n",
    "\n",
    "plt.figure(figsize=(10, 6))\n",
    "classification_moyenne.plot(kind='bar', color='royalblue')\n",
    "\n",
    "# Ajouter des labels et un titre\n",
    "plt.xlabel('Classification des Établissements')\n",
    "plt.ylabel('Nombre d\\'Établissements')\n",
    "plt.title('Répartition des Établissements de type \"Chalet / appartement / résidence de tourisme\" par Classification')\n",
    "\n",
    "# Afficher le graphique\n",
    "plt.xticks(rotation=45, ha='right')\n",
    "plt.tight_layout()\n",
    "plt.show()"
   ]
  },
  {
   "cell_type": "markdown",
   "id": "9f95a4a2-d57e-43c7-b276-0241e669f8c4",
   "metadata": {},
   "source": [
    "## Constats : \n",
    "Les résultats montrent probablement que les établissements de 3 étoiles sont plus courants et accessibles pour un large public, tandis que ceux de 5 étoiles sont plus rares, peut-être en raison des exigences de cette classification et de son coût élevé."
   ]
  },
  {
   "cell_type": "markdown",
   "id": "6a0551bb-e325-4a11-be8f-536947cec80a",
   "metadata": {},
   "source": [
    "# Visualisation de la répartition :"
   ]
  },
  {
   "cell_type": "code",
   "execution_count": 105,
   "id": "458f1589-bf87-4ef4-a1df-7896672550d2",
   "metadata": {},
   "outputs": [
    {
     "data": {
      "image/png": "[encoded data removed]",
      "text/plain": [
       "<Figure size 1200x800 with 1 Axes>"
      ]
     },
     "metadata": {},
     "output_type": "display_data"
    }
   ],
   "source": [
    "merged_df_4_reset = merged_df_4.reset_index()\n",
    "# Filtrer les établissements ayant une classification de 5 étoiles et de 0 étoile\n",
    "etablissements_5_etoiles = merged_df_4_reset[merged_df_4_reset['CARACT_ATTRB_NOM_FR'] == '5 étoiles']\n",
    "etablissements_0_etoile = merged_df_4_reset[merged_df_4_reset['CARACT_ATTRB_NOM_FR'] == '0 étoile']\n",
    "\n",
    "# Calculer la moyenne du nombre d'établissements pour chaque ville dans chaque groupe\n",
    "moyenne_5_etoiles = etablissements_5_etoiles.groupby('TERR_ZONE_NOM_FR')['Nombre_ETBL_ID'].mean()\n",
    "moyenne_0_etoile = etablissements_0_etoile.groupby('TERR_ZONE_NOM_FR')['Nombre_ETBL_ID'].mean()\n",
    "\n",
    "# Créer un DataFrame pour comparer les moyennes\n",
    "moyennes_comparaison = pd.DataFrame({\n",
    "    '5 étoiles': moyenne_5_etoiles,\n",
    "    '0 étoile': moyenne_0_etoile\n",
    "}).fillna(0)\n",
    "\n",
    "# Visualiser les moyennes avec un graphique en barres\n",
    "moyennes_comparaison.plot(kind='bar', figsize=(12, 8), color=['royalblue', 'salmon'])\n",
    "plt.xlabel(\"Villes\")\n",
    "plt.ylabel(\"Moyenne du nombre d'établissements\")\n",
    "plt.title(\"Comparaison des moyennes du nombre d'établissements : villes avec 5 étoiles vs. 0 étoile\")\n",
    "plt.xticks(rotation=45, ha='right')\n",
    "plt.tight_layout()\n",
    "plt.show()\n"
   ]
  },
  {
   "cell_type": "markdown",
   "id": "cb223905-80a9-4f35-b826-69048938da8f",
   "metadata": {},
   "source": [
    "## Constats :\n",
    "En général, les établissements avec 0 étoile semblent plus nombreux que ceux avec 5 étoiles dans plusieurs villes, ce qui pourrait suggérer une tendance où de nombreux établissements n'atteignent pas une qualité de service élevée ou ne sont pas souvent évalués. Les établissements avec 5 étoiles sont moins fréquents, mais ils représentent tout de même une proportion plus faible comparée à ceux avec 0 étoile dans les villes étudiées. Cela met en évidence une concentration significative d'établissements qui n'ont pas été évalués ou qui ne répondent pas aux attentes des visiteurs."
   ]
  }
 ],
 "metadata": {
  "kernelspec": {
   "display_name": "Python 3 (ipykernel)",
   "language": "python",
   "name": "python3"
  },
  "language_info": {
   "codemirror_mode": {
    "name": "ipython",
    "version": 3
   },
   "file_extension": ".py",
   "mimetype": "text/x-python",
   "name": "python",
   "nbconvert_exporter": "python",
   "pygments_lexer": "ipython3",
   "version": "3.12.4"
  }
 },
 "nbformat": 4,
 "nbformat_minor": 5
}
