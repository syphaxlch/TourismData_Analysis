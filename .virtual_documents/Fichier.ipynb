import pandas as pd
import unicodedata #permet d'enlever les accents
import re #Pour utiliser des expressions régulières








type_df = pd.read_excel('data_tp/type.xlsx')
caracteristiques_df = pd.read_excel('data_tp/caracteristiques.xlsx')
etablissements_df = pd.read_excel('data_tp/etablissements.xlsx')
territoires_df = pd.read_excel('data_tp/territoires.xlsx')
adresses_df = pd.read_excel('data_tp/adresses.xlsx')





# Vérification des valeurs manquantes
missing_values_type_df = type_df.isnull().sum()
print("Nombre de valeurs manquantes par colonne pour types_df:")
print(missing_values_type_df)
caracteristiques_df





missing_values_etablissements_df = etablissements_df.isnull().sum()
print("Nombre de valeurs manquantes par colonne pour etablissements_df:")
print(missing_values_etablissements_df)
# Récupération des types uniques dans la colonne ETBL_DESC_FR sans NaN
types_uniques = etablissements_df['ETBL_DESC_FR'].dropna().apply(type).unique()
print('Les types uniques dans la colonne ETBL_DESC_FR : ')
print(types_uniques)






etablissements_df.columns

etablissements_df['ETBL_DESC_FR'].fillna('', inplace=True)  # Remplacer par une chaîne vide
etablissements_df['ETBL_DESC_EN'].fillna('', inplace=True)





territoires_df


territoires_df.isnull().sum()








#Fonction pour enlever les accents
def enlever_accents(chaine):
    if isinstance(chaine, str):  # Vérifier si la valeur est une chaîne
        return ''.join(c for c in unicodedata.normalize('NFD', chaine) if unicodedata.category(c) != 'Mn')
    return chaine  # Retourne la valeur inchangée si ce n'est pas une chaîne
    
# Appliquation de la fonction à la colonne ETBL_DESC_FR
etablissements_df['ETBL_DESC_FR'] = etablissements_df['ETBL_DESC_FR'].apply(enlever_accents)








# Création de nouvelles colonnes avec des valeurs 0/1 selon la présence des mots
etablissements_df['Soleil'] = etablissements_df['ETBL_DESC_FR'].str.contains(r'\bsoleil(?:s)?\b', case=False).astype(int)
etablissements_df['Foret'] = etablissements_df['ETBL_DESC_FR'].str.contains(r'\bforet(?:s)?\b', case=False).astype(int)
etablissements_df['Mer'] = etablissements_df['ETBL_DESC_FR'].str.contains(r'\bmer(?:s)?\b', case=False).astype(int)
etablissements_df['Hebergement'] = etablissements_df['ETBL_DESC_FR'].str.contains(r'\bhebergement(?:s)?\b', case=False).astype(int)





territoires_df


def genre_zone(genre):
    # Filtrage des données selon le genre de zone donné en argument
    filtered_df = territoires_df[territoires_df['TERR_ZONE_GENRE_FR'] == genre]
    
    # Calcul et affichage du nombre d'ETBL_ID par zone de territoire
    result = filtered_df.groupby('TERR_ZONE_NOM_FR')['ETBL_ID'].count()
    print(result)



genre_zone('Ville')


genre_zone('Region')



